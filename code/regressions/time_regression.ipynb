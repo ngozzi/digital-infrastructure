{
 "cells": [
  {
   "cell_type": "code",
   "execution_count": 1,
   "id": "1b38c458-841e-4cdd-8a0c-f15e55020048",
   "metadata": {},
   "outputs": [],
   "source": [
    "# libraries\n",
    "import numpy as np\n",
    "import pandas as pd\n",
    "import pickle as pkl\n",
    "import sys\n",
    "sys.path.append(\"../functions/\")\n",
    "from Boostrap import Bootstrap, regress\n",
    "\n",
    "import warnings\n",
    "warnings.filterwarnings(\"ignore\")\n",
    "\n",
    "# first and last Monday\n",
    "from datetime import datetime, timedelta\n",
    "start_date, end_date  = datetime(2020, 3, 2), datetime(2020, 12, 21)\n",
    "window = timedelta(days=7)\n",
    "dates = pd.to_datetime(np.arange(start_date, end_date + window, window))\n",
    "\n",
    "def time_regress(country, ycol, features):\n",
    "    \"\"\"\n",
    "    This function runs the regression in time\n",
    "    :param df: standardized df\n",
    "    :param ycol: name of y col\n",
    "    :param features: name of independent features\n",
    "    :return: dictionary of regression results\n",
    "    \"\"\"\n",
    "    results, results_nombps = {}, {}\n",
    "\n",
    "    # import data\n",
    "    df = pd.read_csv(\"./input-dfs-time/\" + country + \"_time_std.csv\")\n",
    "    for week in range(len(dates)):\n",
    "        # loc data in this week\n",
    "        df_week = df.loc[df.week == week]\n",
    "        # regress\n",
    "        results[week] = regress(df_week, features, ycol)\n",
    "        # regress without mbps\n",
    "        results_nombps[week] = regress(df_week, [f for f in features if f != 'download_mbps_fixed'], ycol)\n",
    "\n",
    "    return results, results_nombps"
   ]
  },
  {
   "cell_type": "code",
   "execution_count": 2,
   "id": "5f24258b-715e-4836-b1fc-fb8623b9d04b",
   "metadata": {},
   "outputs": [
    {
     "name": "stdout",
     "output_type": "stream",
     "text": [
      "\n",
      "colombia\n",
      "\tmax_movs\n",
      "\tmax_stay\n",
      "\n",
      "ecuador\n",
      "\tmax_movs\n",
      "\tmax_stay\n",
      "\n",
      "el-salvador\n",
      "\tmax_movs\n",
      "\tmax_stay\n"
     ]
    }
   ],
   "source": [
    "for country in ['colombia', 'ecuador', 'el-salvador']:\n",
    "    print(\"\\n\" + country)\n",
    "    for ycol in [\"max_movs\", \"max_stay\"]:\n",
    "        print(\"\\t\" + ycol)\n",
    "\n",
    "        if country in [\"el-salvador\", \"ecuador\"]:\n",
    "            features = [\"download_mbps_fixed\", \"rwi_weight\", \"gdp_per_capita\", \"pop2020\", \"pop_density\", \"pop60plus_ratio\"]\n",
    "        elif country == \"colombia\":\n",
    "            features = [\"download_mbps_fixed\", \"rwi_weight\", \"gdp_per_capita\", \"popDANE\", \"pop_density\", \"pop60plus_ratio\"]\n",
    "\n",
    "        regressions = {}\n",
    "        regressions['complete'], regressions['complete_nombps'] = time_regress(country, ycol, features)\n",
    "        with open(\"./output-time/\" + country + \"_\" + ycol + \"_time.pkl\", \"wb\") as file:\n",
    "            pkl.dump(regressions, file)"
   ]
  },
  {
   "cell_type": "code",
   "execution_count": null,
   "id": "4a84d2c6-0af4-4544-88ba-4449baa39e37",
   "metadata": {},
   "outputs": [],
   "source": []
  }
 ],
 "metadata": {
  "kernelspec": {
   "display_name": "Python 3",
   "language": "python",
   "name": "python3"
  },
  "language_info": {
   "codemirror_mode": {
    "name": "ipython",
    "version": 3
   },
   "file_extension": ".py",
   "mimetype": "text/x-python",
   "name": "python",
   "nbconvert_exporter": "python",
   "pygments_lexer": "ipython3",
   "version": "3.8.8"
  }
 },
 "nbformat": 4,
 "nbformat_minor": 5
}
