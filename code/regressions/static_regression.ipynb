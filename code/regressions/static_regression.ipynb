{
 "cells": [
  {
   "cell_type": "code",
   "execution_count": 1,
   "metadata": {
    "tags": []
   },
   "outputs": [],
   "source": [
    "# libraries\n",
    "import numpy as np\n",
    "import pandas as pd\n",
    "import pickle as pkl\n",
    "import sys\n",
    "sys.path.append(\"../functions/\")\n",
    "from Boostrap import Bootstrap, regress\n",
    "\n",
    "import warnings\n",
    "warnings.filterwarnings(\"ignore\")"
   ]
  },
  {
   "cell_type": "markdown",
   "metadata": {},
   "source": [
    "Static regression:"
   ]
  },
  {
   "cell_type": "code",
   "execution_count": 2,
   "metadata": {
    "collapsed": false,
    "jupyter": {
     "outputs_hidden": false
    },
    "pycharm": {
     "name": "#%%\n"
    }
   },
   "outputs": [
    {
     "name": "stdout",
     "output_type": "stream",
     "text": [
      "\n",
      "ecuador\n",
      "\tmax_movs\n",
      "\tmax_stay\n"
     ]
    }
   ],
   "source": [
    "avoid_cols = ['tests_unique_dev_fixed', 'internet_pen', 'labor_formality_index', 'primary_ratio', 'secondary_ratio', 'tertiary_ratio']\n",
    "\n",
    "for country in ['colombia', 'ecuador', 'el-salvador']:\n",
    "    print(\"\\n\" + country)\n",
    "    for ycol in [\"max_movs\", \"max_stay\"]:\n",
    "        print(\"\\t\" + ycol)\n",
    "\n",
    "        # import data\n",
    "        if ycol == \"max_movs\":\n",
    "            suff = \"_movs_std.csv\"\n",
    "        elif ycol == \"max_stay\":\n",
    "            suff = \"_stay_std.csv\"\n",
    "        df = pd.read_csv(\"./input-dfs-static/\" + country + suff)\n",
    "\n",
    "        # run the univariable and multivariable regressions\n",
    "        regressions = {}\n",
    "        # iterate over features\n",
    "        for c in df.columns:\n",
    "            if c != ycol:\n",
    "                regressions[c] = regress(df, [c], ycol)\n",
    "\n",
    "        regressions['complete'] = regress(df, [c for c in df.columns if c != ycol and c not in avoid_cols], ycol)\n",
    "        regressions['complete_nombps'] = regress(df, [c for c in df.columns if c != ycol and c != \"download_mbps_fixed\" and c not in avoid_cols], ycol)\n",
    "\n",
    "        with open(\"./output-static/\" + country + \"_\" + ycol + \".pkl\", \"wb\") as file:\n",
    "            pkl.dump(regressions, file)"
   ]
  },
  {
   "cell_type": "markdown",
   "metadata": {},
   "source": [
    "SI: static regression with internet adoption features:"
   ]
  },
  {
   "cell_type": "code",
   "execution_count": 4,
   "metadata": {},
   "outputs": [
    {
     "name": "stdout",
     "output_type": "stream",
     "text": [
      "\n",
      "ecuador\n",
      "\tmax_movs\n",
      "\tmax_stay\n"
     ]
    }
   ],
   "source": [
    "avoid_cols = ['labor_formality_index', 'primary_ratio', 'secondary_ratio', 'tertiary_ratio']\n",
    "\n",
    "for country in ['colombia', 'ecuador', 'el-salvador']:\n",
    "    print(\"\\n\" + country)\n",
    "    for ycol in [\"max_movs\", \"max_stay\"]:\n",
    "        print(\"\\t\" + ycol)\n",
    "\n",
    "        # import data\n",
    "        if ycol == \"max_movs\":\n",
    "            suff = \"_movs_std.csv\"\n",
    "        elif ycol == \"max_stay\":\n",
    "            suff = \"_stay_std.csv\"\n",
    "        df = pd.read_csv(\"./input-dfs-static/\" + country + suff)\n",
    "        \n",
    "        # run the univariable and multivariable regressions\n",
    "        regressions = {}\n",
    "        # iterate over features\n",
    "        for c in df.columns:\n",
    "            if c != ycol:\n",
    "                regressions[c] = regress(df, [c], ycol)\n",
    "\n",
    "        regressions['complete'] = regress(df, [c for c in df.columns if c != ycol and c not in avoid_cols], ycol)\n",
    "        regressions['complete_nombps'] = regress(df, [c for c in df.columns if c != ycol and c != \"download_mbps_fixed\" and c not in avoid_cols], ycol)\n",
    "\n",
    "        with open(\"./output-static/\" + country + \"_\" + ycol + \"_internet_adoption.pkl\", \"wb\") as file:\n",
    "            pkl.dump(regressions, file)"
   ]
  },
  {
   "cell_type": "code",
   "execution_count": 11,
   "metadata": {},
   "outputs": [
    {
     "name": "stdout",
     "output_type": "stream",
     "text": [
      "\n",
      "colombia\n",
      "\tmax_movs\n",
      "\tmax_stay\n"
     ]
    }
   ],
   "source": [
    "avoid_cols = [\"secondary_ratio\"]\n",
    "\n",
    "for country in ['colombia']:\n",
    "    print(\"\\n\" + country)\n",
    "    for ycol in [\"max_movs\", \"max_stay\"]:\n",
    "        print(\"\\t\" + ycol)\n",
    "\n",
    "        # import data\n",
    "        if ycol == \"max_movs\":\n",
    "            suff = \"_movs_std.csv\"\n",
    "        elif ycol == \"max_stay\":\n",
    "            suff = \"_stay_std.csv\"\n",
    "        df = pd.read_csv(\"./input-dfs-static/\" + country + suff)\n",
    "        \n",
    "        # run the univariable and multivariable regressions\n",
    "        regressions = {}\n",
    "        # iterate over features\n",
    "        for c in df.columns:\n",
    "            if c != ycol:\n",
    "                regressions[c] = regress(df, [c], ycol)\n",
    "\n",
    "        regressions['complete'] = regress(df, [c for c in df.columns if c != ycol and c not in avoid_cols], ycol)\n",
    "        regressions['complete_nombps'] = regress(df, [c for c in df.columns if c != ycol and c != \"download_mbps_fixed\" and c not in avoid_cols], ycol)\n",
    "\n",
    "        with open(\"./output-static/\" + country + \"_\" + ycol + \"_employment.pkl\", \"wb\") as file:\n",
    "            pkl.dump(regressions, file)"
   ]
  },
  {
   "cell_type": "code",
   "execution_count": null,
   "metadata": {},
   "outputs": [],
   "source": []
  }
 ],
 "metadata": {
  "kernelspec": {
   "display_name": "Python 3",
   "language": "python",
   "name": "python3"
  },
  "language_info": {
   "codemirror_mode": {
    "name": "ipython",
    "version": 3
   },
   "file_extension": ".py",
   "mimetype": "text/x-python",
   "name": "python",
   "nbconvert_exporter": "python",
   "pygments_lexer": "ipython3",
   "version": "3.8.8"
  }
 },
 "nbformat": 4,
 "nbformat_minor": 4
}
